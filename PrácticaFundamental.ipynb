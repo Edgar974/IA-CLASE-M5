{
 "cells": [
  {
   "cell_type": "markdown",
   "metadata": {},
   "source": [
    "# Visión Artificial: Fundamentos de OpenCV"
   ]
  },
  {
   "cell_type": "markdown",
   "metadata": {},
   "source": [
    "## Alumno: Edgar Adrian Chávez Medina "
   ]
  },
  {
   "cell_type": "markdown",
   "metadata": {},
   "source": [
    "## Docente: ing. Samuel Martin Marinez Magdaleno "
   ]
  },
  {
   "cell_type": "code",
   "execution_count": null,
   "metadata": {},
   "outputs": [],
   "source": [
    "# Import Librería \n",
    "import matplotlib.image as plt \n",
    "import matplotlib.pyplot as plt\n",
    "import cv2"
   ]
  },
  {
   "cell_type": "markdown",
   "metadata": {},
   "source": [
    "### 1. Breve descripción de OpenCV"
   ]
  },
  {
   "cell_type": "markdown",
   "metadata": {},
   "source": [
    "OpenCV se inició en intel en el año 1999 por Gray . El primer lanzamiento llegó un poco más tarde en el año 2000. OpenCV escencial significa Open Source Computer Vision Library. Aunque ésta escrito en C / C++, tiene librerias para Python y Java junto con C++. OpenCV se jacta de tener una base de usuarios activa en todo el mundo, y uso aumenta día a día debido al aumento de las aplicaciones de visión por computadora."
   ]
  },
  {
   "cell_type": "markdown",
   "metadata": {},
   "source": [
    "### 2. Imágenes como arreglos"
   ]
  },
  {
   "cell_type": "markdown",
   "metadata": {},
   "source": [
    "Uan imagen no es más que un arreglo estándar de Numpy que contiene píxeles de punto sde datos. CUanto mayor sea e número de píxeles en una imagen, mejor es su resolución. Puede pensar que los píxceles son pequeños bloques de información dipuestos en forma de una cuadrícula de 2D, y la profundidad de un píxel se refiere a la información de color presente en ella. Para se procesado por una computadora, una imagen debe convertirse en una forma binaria.\n",
    "EL color de una imágen se puede calcular de la sigiente manera:\n",
    "\n",
    "Número de colores / sombras =2^bpp donde bpp bits potr píxel."
   ]
  },
  {
   "cell_type": "markdown",
   "metadata": {},
   "source": [
    "Naturalmente, más cantidad de bits / píxel, más colores posibles en las imagenes. Las siguientes tabla muestra la relación más claramente. "
   ]
  },
  {
   "cell_type": "code",
   "execution_count": null,
   "metadata": {},
   "outputs": [],
   "source": [
    "imgen_tabla = mping.imread('tabla.png')\n",
    "imgplot = plt.imshow(imgen_tabla)\n",
    "plt.show()"
   ]
  },
  {
   "cell_type": "markdown",
   "metadata": {},
   "source": [
    "### Veamos ahora la representación de los diferentes tipos de imágenes:"
   ]
  },
  {
   "cell_type": "markdown",
   "metadata": {},
   "source": [
    "### 1. Imagen binaria "
   ]
  },
  {
   "cell_type": "markdown",
   "metadata": {},
   "source": [
    "Una imagen binaria consta de 1 bit / píxel y, por lo tanto, solo puede tener dos colores posibles, es decir, blanco o negro. El negro está representado por el valor 0 mientras que el 1 representa el blanco."
   ]
  },
  {
   "cell_type": "code",
   "execution_count": null,
   "metadata": {},
   "outputs": [],
   "source": [
    "imgen_tabla=mping.imread('imgen_binaria.png')\n",
    "imgplot = plt.imshow(imgen_tabla)\n",
    "plt.show()"
   ]
  },
  {
   "cell_type": "markdown",
   "metadata": {},
   "source": [
    "### 2. Imagen en escala de girses "
   ]
  },
  {
   "cell_type": "markdown",
   "metadata": {},
   "source": [
    "Una imagen en escala de grises consta de 8 bits por píxel. Esto significa que puede tener 256 tonos diferentes donde 0 píxeles representarán el color negro mientras 255 denota el blanco. Por ejemplo, la imagen a continuación muestra una imagen en escala de grises representada en forma de arreglo. Una imagen en escala de grises tiene solo 1 canal donde el canal representa la dimensión."
   ]
  },
  {
   "cell_type": "code",
   "execution_count": null,
   "metadata": {},
   "outputs": [],
   "source": [
    "imgen_tabla = mping.imread ('imagen_escala_gris.png')\n",
    "implot = plt.imshow(imgen_tabla)\n",
    "plt.show()"
   ]
  },
  {
   "cell_type": "markdown",
   "metadata": {},
   "source": [
    "### 3. Imagen coloreada"
   ]
  },
  {
   "cell_type": "markdown",
   "metadata": {},
   "source": [
    "Las imagenes en color se representan como una combinacion de rojo, azul y verde, y todos los demás se pueden lograr mezclando estos colores primarios en las proporciones correcta."
   ]
  },
  {
   "cell_type": "code",
   "execution_count": null,
   "metadata": {},
   "outputs": [],
   "source": [
    "imgen:tabla = mping.imread('imagen_coloreada.png')\n",
    "implot = plt.imshow(imgen_tabla)\n",
    "plt.show()"
   ]
  },
  {
   "cell_type": "markdown",
   "metadata": {},
   "source": [
    "Una imagen en color tambien consta de 8 bits por píxel. Como resultado, se pueden representar 256 tonos de colores diferentes con 0 se denota negro y 255 blnco. Veamos la famosa imagen a color de un mandril que se ha citado en muchos ejemplos de procesamiento de imágenes"
   ]
  },
  {
   "cell_type": "code",
   "execution_count": null,
   "metadata": {},
   "outputs": [],
   "source": [
    "imgen_tabla = mping.imread('mandril_coloreado.png')\n",
    "implot = plt.imshow(imagen_tabla)\n",
    "plt.show()"
   ]
  },
  {
   "cell_type": "markdown",
   "metadata": {},
   "source": [
    "Si comprobamos la forma de la imagen de arriba, obtendríamos:\n",
    "\n",
    "Forma (288, 288, 3) 288: ancho de píxel, 288: altura de píxel, 3: canal de color\n",
    "\n",
    "Esto significa que podemos representar la imagen de arrivba en forma de un arreglo tridimensional."
   ]
  },
  {
   "cell_type": "code",
   "execution_count": null,
   "metadata": {},
   "outputs": [],
   "source": [
    "imgen_tabla = mping.imread('arreglo_3d.png')\n",
    "implot =plt.imshow (imgen_tabla)\n",
    "plt.show()"
   ]
  }
 ],
 "metadata": {
  "kernelspec": {
   "display_name": "Python 3",
   "language": "python",
   "name": "python3"
  },
  "language_info": {
   "codemirror_mode": {
    "name": "ipython",
    "version": 3
   },
   "file_extension": ".py",
   "mimetype": "text/x-python",
   "name": "python",
   "nbconvert_exporter": "python",
   "pygments_lexer": "ipython3",
   "version": "3.7.4"
  }
 },
 "nbformat": 4,
 "nbformat_minor": 2
}
