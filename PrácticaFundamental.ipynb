{
 "cells": [
  {
   "cell_type": "markdown",
   "metadata": {},
   "source": [
    "# Visión Artificial: Fundamentos de OpenCV"
   ]
  },
  {
   "cell_type": "markdown",
   "metadata": {},
   "source": [
    "## Alumno: Edgar Adrian Chávez Medina "
   ]
  },
  {
   "cell_type": "markdown",
   "metadata": {},
   "source": [
    "## Docente: ing. Samuel Martin Marinez Magdaleno "
   ]
  },
  {
   "cell_type": "code",
   "execution_count": null,
   "metadata": {},
   "outputs": [],
   "source": [
    "# Import Librería \n",
    "import matplotlib.image as plt \n",
    "import matplotlib.pyplot as plt\n",
    "import cv2"
   ]
  },
  {
   "cell_type": "markdown",
   "metadata": {},
   "source": [
    "### 1. Breve descripción de OpenCV"
   ]
  },
  {
   "cell_type": "markdown",
   "metadata": {},
   "source": [
    "OpenCV se inició en intel en el año 1999 por Gray . El primer lanzamiento llegó un poco más tarde en el año 2000. OpenCV escencial significa Open Source Computer Vision Library. Aunque ésta escrito en C / C++, tiene librerias para Python y Java junto con C++. OpenCV se jacta de tener una base de usuarios activa en todo el mundo, y uso aumenta día a día debido al aumento de las aplicaciones de visión por computadora."
   ]
  },
  {
   "cell_type": "markdown",
   "metadata": {},
   "source": [
    "### 2. Imágenes como arreglos"
   ]
  },
  {
   "cell_type": "markdown",
   "metadata": {},
   "source": [
    "Uan imagen no es más que un arreglo estándar de Numpy que contiene píxeles de punto sde datos. CUanto mayor sea e número de píxeles en una imagen, mejor es su resolución. Puede pensar que los píxceles son pequeños bloques de información dipuestos en forma de una cuadrícula de 2D, y la profundidad de un píxel se refiere a la información de color presente en ella. Para se procesado por una computadora, una imagen debe convertirse en una forma binaria.\n",
    "EL color de una imágen se puede calcular de la sigiente manera:\n",
    "\n",
    "Número de colores / sombras =2^bpp donde bpp bits potr píxel."
   ]
  },
  {
   "cell_type": "markdown",
   "metadata": {},
   "source": [
    "Naturalmente, más cantidad de bits / píxel, más colores posibles en las imagenes. Las siguientes tabla muestra la relación más claramente. "
   ]
  },
  {
   "cell_type": "code",
   "execution_count": null,
   "metadata": {},
   "outputs": [],
   "source": [
    "imgen_tabla = mping.imread('tabla.png')\n",
    "imgplot = plt.imshow(imgen_tabla)\n",
    "plt.show()"
   ]
  },
  {
   "cell_type": "markdown",
   "metadata": {},
   "source": [
    "### Veamos ahora la representación de los diferentes tipos de imágenes:"
   ]
  },
  {
   "cell_type": "markdown",
   "metadata": {},
   "source": [
    "### 1. Imagen binaria "
   ]
  },
  {
   "cell_type": "markdown",
   "metadata": {},
   "source": [
    "Una imagen binaria consta de 1 bit / píxel y, por lo tanto, solo puede tener dos colores posibles, es decir, blanco o negro. El negro está representado por el valor 0 mientras que el 1 representa el blanco."
   ]
  },
  {
   "cell_type": "code",
   "execution_count": null,
   "metadata": {},
   "outputs": [],
   "source": [
    "imgen_tabla=mping.imread('imgen_binaria.png')\n",
    "imgplot = plt.imshow(imgen_tabla)\n",
    "plt.show()"
   ]
  },
  {
   "cell_type": "markdown",
   "metadata": {},
   "source": [
    "### 2. Imagen en escala de girses "
   ]
  },
  {
   "cell_type": "markdown",
   "metadata": {},
   "source": [
    "Una imagen en escala de grises consta de 8 bits por píxel. Esto significa que puede tener 256 tonos diferentes donde 0 píxeles representarán el color negro mientras 255 denota el blanco. Por ejemplo, la imagen a continuación muestra una imagen en escala de grises representada en forma de arreglo. Una imagen en escala de grises tiene solo 1 canal donde el canal representa la dimensión."
   ]
  },
  {
   "cell_type": "code",
   "execution_count": null,
   "metadata": {},
   "outputs": [],
   "source": [
    "imgen_tabla = mping.imread ('imagen_escala_gris.png')\n",
    "implot = plt.imshow(imgen_tabla)\n",
    "plt.show()"
   ]
  },
  {
   "cell_type": "markdown",
   "metadata": {},
   "source": [
    "### 3. Imagen coloreada"
   ]
  },
  {
   "cell_type": "markdown",
   "metadata": {},
   "source": [
    "Las imagenes en color se representan como una combinacion de rojo, azul y verde, y todos los demás se pueden lograr mezclando estos colores primarios en las proporciones correcta."
   ]
  },
  {
   "cell_type": "code",
   "execution_count": null,
   "metadata": {},
   "outputs": [],
   "source": [
    "imgen:tabla = mping.imread('imagen_coloreada.png')\n",
    "implot = plt.imshow(imgen_tabla)\n",
    "plt.show()"
   ]
  },
  {
   "cell_type": "markdown",
   "metadata": {},
   "source": [
    "Una imagen en color tambien consta de 8 bits por píxel. Como resultado, se pueden representar 256 tonos de colores diferentes con 0 se denota negro y 255 blnco. Veamos la famosa imagen a color de un mandril que se ha citado en muchos ejemplos de procesamiento de imágenes"
   ]
  },
  {
   "cell_type": "code",
   "execution_count": null,
   "metadata": {},
   "outputs": [],
   "source": [
    "imgen_tabla = mping.imread('mandril_coloreado.png')\n",
    "implot = plt.imshow(imagen_tabla)\n",
    "plt.show()"
   ]
  },
  {
   "cell_type": "markdown",
   "metadata": {},
   "source": [
    "Si comprobamos la forma de la imagen de arriba, obtendríamos:\n",
    "\n",
    "Forma (288, 288, 3) 288: ancho de píxel, 288: altura de píxel, 3: canal de color\n",
    "\n",
    "Esto significa que podemos representar la imagen de arrivba en forma de un arreglo tridimensional."
   ]
  },
  {
   "cell_type": "code",
   "execution_count": null,
   "metadata": {},
   "outputs": [],
   "source": [
    "imgen_tabla = mping.imread('arreglo_3d.png')\n",
    "implot =plt.imshow (imgen_tabla)\n",
    "plt.show()"
   ]
  },
  {
   "cell_type": "markdown",
   "metadata": {},
   "source": [
    "### 4. Imágenes y OpenCV"
   ]
  },
  {
   "cell_type": "markdown",
   "metadata": {},
   "source": [
    "Antes de sltar al proceso de detección de rostros, aprendemos algunos conceptos básicos sobre cómo trabajar con OpenCV. En esta sección realizamos operaciones simples en imágenes, dibujar formas simples en imágenes e interactuar con imágenes a través de devoluciones de llamada. Esto es necesario para crear una base antes de ver temas mas avanzados."
   ]
  },
  {
   "cell_type": "markdown",
   "metadata": {},
   "source": [
    "### Imoportando imágenes en OpneCV"
   ]
  },
  {
   "cell_type": "markdown",
   "metadata": {},
   "source": [
    "Importando las bibñiotacas necesarias"
   ]
  },
  {
   "cell_type": "code",
   "execution_count": 2,
   "metadata": {},
   "outputs": [],
   "source": [
    "import numpy as np\n",
    "import cv2\n",
    "import matplotlib.pyplot as plt\n",
    "%matplotlib inline "
   ]
  },
  {
   "cell_type": "markdown",
   "metadata": {},
   "source": [
    "Lea la imagen con la función imread. Utilizaremos la imagen coloreada \"mandril\" para fines de demostración "
   ]
  },
  {
   "cell_type": "code",
   "execution_count": 3,
   "metadata": {},
   "outputs": [],
   "source": [
    "img_raw = cv2.imread('mandril_color.png')"
   ]
  },
  {
   "cell_type": "markdown",
   "metadata": {},
   "source": [
    "El tipo y forma del arreglo"
   ]
  },
  {
   "cell_type": "code",
   "execution_count": null,
   "metadata": {},
   "outputs": [],
   "source": [
    "type(img_raw)\n",
    "np.ndarray\n",
    "\n",
    "img_raw.shape"
   ]
  },
  {
   "cell_type": "markdown",
   "metadata": {},
   "source": [
    "Por lo tanto, la imagen .png se transforma en un arreglo numpy con una forma de 288x288 y tiene 3 canales"
   ]
  },
  {
   "cell_type": "markdown",
   "metadata": {},
   "source": [
    "Viendo la imagen"
   ]
  },
  {
   "cell_type": "code",
   "execution_count": null,
   "metadata": {},
   "outputs": [],
   "source": [
    "plt.imshow(img_raw)"
   ]
  },
  {
   "cell_type": "markdown",
   "metadata": {},
   "source": [
    "Lo que obtenemos como resultado es un poco diferente con respecto al color. Esperábamos una imagen de colores brillantes, pero lo que obtenemos es una imagen con cierto matiz azulado. Eso sucede porque Open CV y matplotlib tienen diferentes ordenes de colores primarios. Mientras que OpenCV lee imágenes en forma de BGR, matplotlib, por otro lado, sigue el orden de RGB. Por lo tantom cuando leemos un archivo a través de OpenCV, lo leemos como si contuviera canales en el orden de azul, verde y rojo. Sin embargo, cuando mostramso la imagen usando matplotlib, el canal rojo y azul se intercambia y, por lo tanto, el tinte azul. Para evitar problema, transformamos el canal a cómo matplotlibespera que se use la función cvtColor."
   ]
  },
  {
   "cell_type": "code",
   "execution_count": null,
   "metadata": {},
   "outputs": [],
   "source": [
    "img_rbg = cv2.cvtColor(img_raw, cv2.COLOR.BGR2RGB)\n",
    "plt.imshow(img_rgb)"
   ]
  },
  {
   "cell_type": "markdown",
   "metadata": {},
   "source": [
    "### Operaciones básicas en imágenes "
   ]
  },
  {
   "cell_type": "markdown",
   "metadata": {},
   "source": [
    "En esta sección, aprenderemos cómo podemos dibujar varias formas en una imagen existente ára tener una idea de cómo trabajar con OpenCV"
   ]
  },
  {
   "cell_type": "markdown",
   "metadata": {},
   "source": [
    "### Dibujando en imágenes "
   ]
  },
  {
   "cell_type": "markdown",
   "metadata": {},
   "source": [
    "Crear una imagen en negro que actuara como plantilla."
   ]
  },
  {
   "cell_type": "code",
   "execution_count": 4,
   "metadata": {},
   "outputs": [],
   "source": [
    "image_blank = np.zeros(shape=(512,512,3),dtype=np.int16)"
   ]
  },
  {
   "cell_type": "code",
   "execution_count": null,
   "metadata": {},
   "outputs": [],
   "source": [
    "#Muestra la imagen en negro\n",
    "plt.imshow(image_blank) "
   ]
  },
  {
   "cell_type": "markdown",
   "metadata": {},
   "source": [
    "### Función y Atributos\n",
    "\n",
    "La función general para dibujar formas o figuras en imágenes es:\n",
    "\n",
    "#### cv2.shape[line,ractangle etc][image,Pt1,Pt2, color, thickness]\n",
    "\n",
    "Hay algunos algoritmos que se pasn en función para dibujar figuras en imágenes:\n",
    "\n",
    "1) imagen en la que se dibujarán las formas\n",
    "\n",
    "2) Coordenadas desde la figura a dibujar desde Pt1 (arriba a la izquierda) a Pt2 (abajo a la derecha)\n",
    "\n",
    "3) Color: El color de la forma que va a dibujar. Se pasa como una una tupla. por ejemplo (255,0,0). Para la escala de grises, sera la escala de brillo. \n",
    "\n",
    "4) El grosor de la figura geométrica \n",
    "\n",
    "\n",
    "### a) Linea recta\n",
    "\n",
    "Dibujar una linea recta a través de una imagen requerida especificar los puntos, a tavés de los cuales pasara la linea. "
   ]
  },
  {
   "cell_type": "code",
   "execution_count": null,
   "metadata": {},
   "outputs": [],
   "source": [
    "# Dibujar ua linea verde diagonal con un grosor de 5 px\n",
    "line_red = cv2.line(image_blank,(0,0),(511,311),(255,0,0),5)\n",
    "plt.imshow(line_red)"
   ]
  },
  {
   "cell_type": "markdown",
   "metadata": {},
   "source": [
    "### b) Rectángulo\n",
    "\n",
    "Para un ractangulo, necesitamos especificar las coordenadas superior izquierda e interios derecha."
   ]
  },
  {
   "cell_type": "code",
   "execution_count": null,
   "metadata": {},
   "outputs": [],
   "source": [
    "# Dibujar un rectangulo azul con un grosor de 5 px\n",
    "rectangle=cv2.rectangle(image_blank,(384,0),(510,120),(0,0,255),5)\n",
    "plt.imshow(rectangle)"
   ]
  },
  {
   "cell_type": "markdown",
   "metadata": {},
   "source": [
    "### Escribir en imágenes \n",
    "\n",
    "Agregar texto a la imagen tanmbién es similar a dibujar formas en estas. Pero debe especificar ciertos argumentos antes de hacerlo.\n",
    "\n",
    "1) Texto a escribitr\n",
    "\n",
    "2) Coordenadas del texto. El texto en una imagen empieza desde la dirección inferior izquierda.\n",
    "\n",
    "3) Tipo de fuente \n",
    "\n",
    "4) Otros atributos como color, grosor y tipo de linea. Normalmente, el tipo de linea que se usa es lineType=cv2.LINE_AA."
   ]
  },
  {
   "cell_type": "code",
   "execution_count": null,
   "metadata": {},
   "outputs": [],
   "source": [
    "font = cv2.FONT_HERSHEY_SIMPLEX\n",
    "text=cv2.putText(image_blank,'OPenCV',(10,300),font, 4, (255,255,255), 2, cv2.LINE_AA)\n",
    "plt.imshow(text)"
   ]
  }
 ],
 "metadata": {
  "kernelspec": {
   "display_name": "Python 3",
   "language": "python",
   "name": "python3"
  },
  "language_info": {
   "codemirror_mode": {
    "name": "ipython",
    "version": 3
   },
   "file_extension": ".py",
   "mimetype": "text/x-python",
   "name": "python",
   "nbconvert_exporter": "python",
   "pygments_lexer": "ipython3",
   "version": "3.7.4"
  }
 },
 "nbformat": 4,
 "nbformat_minor": 2
}
