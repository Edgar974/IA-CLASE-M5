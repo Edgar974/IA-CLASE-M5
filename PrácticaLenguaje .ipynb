{
 "cells": [
  {
   "cell_type": "markdown",
   "metadata": {},
   "source": [
    "# Práctica: Detección de Lenguaje Natural"
   ]
  },
  {
   "cell_type": "markdown",
   "metadata": {},
   "source": [
    "## Alumno: Edgar Adrian Chávez medina  "
   ]
  },
  {
   "cell_type": "markdown",
   "metadata": {},
   "source": [
    "## Docente: Ing. Samuel Martin Martinez Magdaleno "
   ]
  },
  {
   "cell_type": "markdown",
   "metadata": {},
   "source": [
    "Python es uno de los lenguajes de programación mas potentes y populares. Como hemos visto hasta el día de hoy se puede utilizar e muchas formas. Entre una de estas formas, se incluye la detección de idiomas. Es aquí en donde entran los algoritmos de PLN."
   ]
  },
  {
   "cell_type": "markdown",
   "metadata": {},
   "source": [
    "Los algoritmos de PLN tienen que modificarse para diferentes corpus y de acuerdo con la gramática de diferentes idiomas. De acierdo con los idioma que se esten utilizando para realizar PLN, Es el software o librerías que se debe seleccionar. Por ejemplo, NTLK es la librería de procesamiento de lenguaje natural mas utilizado para el idioma ingles en Python. Sin embargo, FreeLing es de las mejores alternativas vuando estamos trabajando con español\n",
    "\n",
    "La eficiencia del procesamiento de lenguaje natural depende de varios factores. Un modelo con una calidad superior para el análisis debe texto debe incluir lo siguiente:"
   ]
  },
  {
   "cell_type": "markdown",
   "metadata": {},
   "source": [
    "### 1. Extracción del texto:"
   ]
  },
  {
   "cell_type": "markdown",
   "metadata": {},
   "source": [
    "El texto peude extraerde mediante una página o datos web. Importándo en un formato particular, tomando desde una base de datos u através de un API."
   ]
  },
  {
   "cell_type": "markdown",
   "metadata": {},
   "source": [
    "### 2. Identificación del texto: "
   ]
  },
  {
   "cell_type": "markdown",
   "metadata": {},
   "source": [
    "Es el proceso de separación de texto relevante o de interés, del texto que nos añade ruido al análisis."
   ]
  },
  {
   "cell_type": "markdown",
   "metadata": {},
   "source": [
    "### 3. Procesamiento de Lenguaje Natural (PLN):\n"
   ]
  },
  {
   "cell_type": "markdown",
   "metadata": {},
   "source": [
    "Es el conjunto de algoritmos que admiten el procesamiento de diferentes idiomas o lenguajes."
   ]
  },
  {
   "cell_type": "markdown",
   "metadata": {},
   "source": [
    "### 4. Aprendizaje automático:"
   ]
  },
  {
   "cell_type": "markdown",
   "metadata": {},
   "source": [
    "Es un paso esencial para lograr objetivos como la colaboración, el análisis de sentimiento y ala agrupación."
   ]
  },
  {
   "cell_type": "markdown",
   "metadata": {},
   "source": [
    "### Combinación de Python y NTLK para la detección del lenguaje:"
   ]
  },
  {
   "cell_type": "markdown",
   "metadata": {},
   "source": [
    "Lamayoría de las personas utilizan motores de busqueda y redes sociales. Los cuales se muestran en diferentes lenguajes. Entre ellos español e inglés. \n",
    "\n",
    "Para  lograr este proceso, un teto indexado debe examinarse bien, lo que da como resultado el contenido mostrado por estos motores y redes sociales.\n",
    "\n",
    "Existen muchas maneras de lograr este objetivo, la forma más fácil de hacerlo es mediante el enfoque basado en \"stop words\"\n",
    "\n",
    "\"StopWords\" se usa en ele procesamiento de lenguaje natural para mencionar palabras que se deben filtrar del texto antes de que tenga lugar cualquier tipo de procesamiento.\n",
    "\n",
    "Ahora, tenemos un texto para detecatar el idioma. El paso básico es Tokenizar el texto dado una lista de \"palabras\" y \" tokens\", utilizando un enfoque que depende de los requerimientos."
   ]
  },
  {
   "cell_type": "markdown",
   "metadata": {},
   "source": [
    "### El siguiente ejemplo de detección de lenguaje utliza NTLK y Python:"
   ]
  },
  {
   "cell_type": "code",
   "execution_count": 10,
   "metadata": {},
   "outputs": [
    {
     "name": "stdout",
     "output_type": "stream",
     "text": [
      "Cadena de tecto: Hello my name is Samuel Martinez\t Lenguage: english\n",
      "\n",
      "Cadena de tecto:  Hola mi nombre es Samuel Martinez\t Lenguage: english\n",
      "\n",
      "Cadena de tecto: Bonjour mon nom est Samuel Martinez\t Lenguage: french\n",
      "\n",
      "Cadena de tecto: Hallo mein Name ist Samuel Martinez\t Lenguage: german\n"
     ]
    }
   ],
   "source": [
    "from nltk import *\n",
    "from nltk.corpus import *\n",
    "#\n",
    "def lang_ratio(input):\n",
    "    lang_ratio = {}\n",
    "    tokens = wordpunct_tokenize(input)\n",
    "    words = [word.lower() for word in tokens]\n",
    "    for language in stopwords.fileids():\n",
    "        stopwords_set = set(stopwords.words(language))\n",
    "        words_set = set(words)\n",
    "        common_elements = words_set.intersection(stopwords_set)\n",
    "        lang_ratio[language] = len(common_elements)\n",
    "    return lang_ratio\n",
    "# Función que detecta lenguaje\n",
    "def detect_language(input):\n",
    "    ratios= lang_ratio(input)\n",
    "    language = max(ratios, key=ratios.get)\n",
    "    return language\n",
    "\n",
    "input1 = \"Hello my name is Samuel Martinez\"\n",
    "input2 = \" Hola mi nombre es Samuel Martinez\"\n",
    "input3 = \"Bonjour mon nom est Samuel Martinez\"\n",
    "input4 = \"Hallo mein Name ist Samuel Martinez\"\n",
    "\n",
    "language = detect_language(input1)\n",
    "print ('Cadena de tecto: ' + input1 + '\\t Lenguage: ' + language)\n",
    "\n",
    "langusge = detect_language(input2)\n",
    "print ('\\n' + 'Cadena de tecto: ' + input2 + '\\t Lenguage: ' + language)\n",
    "\n",
    "language = detect_language(input3)\n",
    "print ('\\n' + 'Cadena de tecto: ' + input3 + '\\t Lenguage: ' + language)\n",
    "\n",
    "language = detect_language(input4)\n",
    "print ('\\n' + 'Cadena de tecto: ' + input4 + '\\t Lenguage: ' + language)"
   ]
  },
  {
   "cell_type": "code",
   "execution_count": null,
   "metadata": {},
   "outputs": [],
   "source": []
  }
 ],
 "metadata": {
  "kernelspec": {
   "display_name": "Python 3",
   "language": "python",
   "name": "python3"
  },
  "language_info": {
   "codemirror_mode": {
    "name": "ipython",
    "version": 3
   },
   "file_extension": ".py",
   "mimetype": "text/x-python",
   "name": "python",
   "nbconvert_exporter": "python",
   "pygments_lexer": "ipython3",
   "version": "3.7.4"
  }
 },
 "nbformat": 4,
 "nbformat_minor": 2
}
